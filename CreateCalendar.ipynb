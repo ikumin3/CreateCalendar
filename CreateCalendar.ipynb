{
  "nbformat": 4,
  "nbformat_minor": 0,
  "metadata": {
    "colab": {
      "provenance": [],
      "authorship_tag": "ABX9TyMaT6hz8YfDGaAoql+azfY8",
      "include_colab_link": true
    },
    "kernelspec": {
      "name": "python3",
      "display_name": "Python 3"
    },
    "language_info": {
      "name": "python"
    }
  },
  "cells": [
    {
      "cell_type": "markdown",
      "metadata": {
        "id": "view-in-github",
        "colab_type": "text"
      },
      "source": [
        "<a href=\"https://colab.research.google.com/github/ikumin3/CreateCalendar/blob/main/CreateCalendar.ipynb\" target=\"_parent\"><img src=\"https://colab.research.google.com/assets/colab-badge.svg\" alt=\"Open In Colab\"/></a>"
      ]
    },
    {
      "cell_type": "code",
      "execution_count": null,
      "metadata": {
        "id": "PhyVzREUGjeY"
      },
      "outputs": [],
      "source": [
        "def leap_yaer(year):\n",
        "  if(year % 4 == 0 and year % 100 !=0) or (year % 400 == 0):\n",
        "    return True\n",
        "  else:\n",
        "    return False"
      ]
    }
  ]
}